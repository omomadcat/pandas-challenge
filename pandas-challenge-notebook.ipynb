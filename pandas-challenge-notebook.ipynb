{
 "cells": [
  {
   "cell_type": "code",
   "execution_count": 2,
   "metadata": {},
   "outputs": [
    {
     "data": {
      "text/plain": [
       "(   School ID            school_name      type  size   budget\n",
       " 0          0      Huang High School  District  2917  1910635\n",
       " 1          1   Figueroa High School  District  2949  1884411\n",
       " 2          2    Shelton High School   Charter  1761  1056600\n",
       " 3          3  Hernandez High School  District  4635  3022020\n",
       " 4          4    Griffin High School   Charter  1468   917500,\n",
       "        School ID         size        budget\n",
       " count  15.000000    15.000000  1.500000e+01\n",
       " mean    7.000000  2611.333333  1.643295e+06\n",
       " std     4.472136  1420.915282  9.347763e+05\n",
       " min     0.000000   427.000000  2.480870e+05\n",
       " 25%     3.500000  1698.000000  1.046265e+06\n",
       " 50%     7.000000  2283.000000  1.319574e+06\n",
       " 75%    10.500000  3474.000000  2.228999e+06\n",
       " max    14.000000  4976.000000  3.124928e+06,\n",
       "    Student ID       student_name gender grade        school_name  \\\n",
       " 0           0       Paul Bradley      M   9th  Huang High School   \n",
       " 1           1       Victor Smith      M  12th  Huang High School   \n",
       " 2           2    Kevin Rodriguez      M  12th  Huang High School   \n",
       " 3           3  Dr. Richard Scott      M  12th  Huang High School   \n",
       " 4           4         Bonnie Ray      F   9th  Huang High School   \n",
       " \n",
       "    reading_score  math_score  \n",
       " 0             66          79  \n",
       " 1             94          61  \n",
       " 2             90          60  \n",
       " 3             67          58  \n",
       " 4             97          84  ,\n",
       "          Student ID  reading_score    math_score\n",
       " count  39170.000000    39170.00000  39170.000000\n",
       " mean   19584.500000       81.87784     78.985371\n",
       " std    11307.549359       10.23958     12.309968\n",
       " min        0.000000       63.00000     55.000000\n",
       " 25%     9792.250000       73.00000     69.000000\n",
       " 50%    19584.500000       82.00000     79.000000\n",
       " 75%    29376.750000       91.00000     89.000000\n",
       " max    39169.000000       99.00000     99.000000)"
      ]
     },
     "execution_count": 2,
     "metadata": {},
     "output_type": "execute_result"
    }
   ],
   "source": [
    "import pandas as pd\n",
    "from pathlib import Path\n",
    "\n",
    "# Load data from CSV files\n",
    "schools_data = pd.read_csv('PyCitySchools/resources/schools_complete.csv')\n",
    "students_data = pd.read_csv('PyCitySchools/resources/students_complete.csv')\n",
    "\n",
    "# Check rows\n",
    "schools_data.head(), schools_data.describe(), students_data.head(), students_data.describe()"
   ]
  }
 ],
 "metadata": {
  "kernelspec": {
   "display_name": "Python 3",
   "language": "python",
   "name": "python3"
  },
  "language_info": {
   "codemirror_mode": {
    "name": "ipython",
    "version": 3
   },
   "file_extension": ".py",
   "mimetype": "text/x-python",
   "name": "python",
   "nbconvert_exporter": "python",
   "pygments_lexer": "ipython3",
   "version": "3.12.3"
  }
 },
 "nbformat": 4,
 "nbformat_minor": 2
}
